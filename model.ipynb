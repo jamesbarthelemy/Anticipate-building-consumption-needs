{
 "cells": [
  {
   "cell_type": "code",
   "execution_count": 1,
   "id": "bf3d224d",
   "metadata": {},
   "outputs": [],
   "source": [
    "import warnings\n",
    "warnings.filterwarnings('ignore')"
   ]
  },
  {
   "cell_type": "code",
   "execution_count": 2,
   "id": "324d7c7b",
   "metadata": {},
   "outputs": [],
   "source": [
    "import pandas as pd\n",
    "import numpy as np\n",
    "import matplotlib.pyplot as plt\n",
    "\n",
    "from sklearn.model_selection import train_test_split\n",
    "from joblib import Memory\n",
    "from sklearn.experimental import enable_iterative_imputer\n",
    "from sklearn.impute import IterativeImputer\n",
    "from sklearn.preprocessing import OneHotEncoder\n",
    "from sklearn.preprocessing import StandardScaler\n",
    "from sklearn.preprocessing import Normalizer\n",
    "from sklearn.preprocessing import QuantileTransformer\n",
    "from sklearn.pipeline import Pipeline\n",
    "from sklearn.compose import ColumnTransformer\n",
    "from sklearn.linear_model import ElasticNet\n",
    "from sklearn.ensemble import RandomForestRegressor\n",
    "from sklearn.ensemble import HistGradientBoostingRegressor\n",
    "from numpy import arange\n",
    "import time\n",
    "from sklearn.model_selection import GridSearchCV\n",
    "from sklearn.compose import TransformedTargetRegressor\n",
    "import re\n",
    "from sklearn.metrics import mean_squared_error, r2_score\n",
    "from sklearn.metrics import mean_squared_log_error\n",
    "import scipy.stats as st\n",
    "import math\n",
    "from sklearn.base import clone\n",
    "from sklearn.inspection import permutation_importance\n",
    "from shutil import rmtree"
   ]
  },
  {
   "cell_type": "markdown",
   "id": "53d3f877",
   "metadata": {},
   "source": [
    "# Data load and preparation"
   ]
  },
  {
   "cell_type": "markdown",
   "id": "013be896",
   "metadata": {},
   "source": [
    "## Load"
   ]
  },
  {
   "cell_type": "code",
   "execution_count": 3,
   "id": "a1e8737d",
   "metadata": {
    "scrolled": true
   },
   "outputs": [
    {
     "name": "stdout",
     "output_type": "stream",
     "text": [
      "Dataset: (1573, 19)\n",
      "\n",
      "Colonnes\n",
      "---------------------------------------------------------\n",
      "Index(['BuildingType', 'PrimaryPropertyType', 'Neighborhood', 'YearBuilt',\n",
      "       'NumberofFloors', 'PropertyGFATotal', 'PropertyGFAParking',\n",
      "       'PropertyGFABuilding(s)', 'LargestPropertyUseType',\n",
      "       'LargestPropertyUseTypeGFA', 'SecondLargestPropertyUseTypeGFA',\n",
      "       'ThirdLargestPropertyUseTypeGFA', 'ENERGYSTARScore',\n",
      "       'SiteEnergyUse(kBtu)', 'TotalGHGEmissions', 'Usage_nb', 'SteamUsed',\n",
      "       'ElectricityUsed', 'NaturalGasUsed'],\n",
      "      dtype='object')\n",
      "\n",
      "Valeurs manquantes\n",
      "---------------------------------------------------------\n",
      "BuildingType                       False\n",
      "PrimaryPropertyType                False\n",
      "Neighborhood                       False\n",
      "YearBuilt                          False\n",
      "NumberofFloors                     False\n",
      "PropertyGFATotal                   False\n",
      "PropertyGFAParking                 False\n",
      "PropertyGFABuilding(s)             False\n",
      "LargestPropertyUseType             False\n",
      "LargestPropertyUseTypeGFA          False\n",
      "SecondLargestPropertyUseTypeGFA     True\n",
      "ThirdLargestPropertyUseTypeGFA      True\n",
      "ENERGYSTARScore                     True\n",
      "SiteEnergyUse(kBtu)                False\n",
      "TotalGHGEmissions                  False\n",
      "Usage_nb                           False\n",
      "SteamUsed                          False\n",
      "ElectricityUsed                    False\n",
      "NaturalGasUsed                     False\n",
      "dtype: bool\n",
      "\n"
     ]
    }
   ],
   "source": [
    "# load the dataset\n",
    "data = pd.read_csv('2015_2016_building_energy_benchmarking.csv', sep=',',\n",
    "                   decimal='.', encoding='utf8', low_memory=False)\n",
    "\n",
    "# print dataset details\n",
    "print('Dataset: ' + str(data.shape))\n",
    "print('')\n",
    "print('Colonnes')\n",
    "print('---------------------------------------------------------')\n",
    "print(data.columns)\n",
    "print('')\n",
    "print('Valeurs manquantes')\n",
    "print('---------------------------------------------------------')\n",
    "print(data.isnull().any())\n",
    "print('')"
   ]
  },
  {
   "cell_type": "markdown",
   "id": "722e6fed",
   "metadata": {},
   "source": [
    "## Split"
   ]
  },
  {
   "cell_type": "raw",
   "id": "8ff767ec",
   "metadata": {},
   "source": [
    "Training set 80%, Testing set 20% - random state 0%"
   ]
  },
  {
   "cell_type": "code",
   "execution_count": 5,
   "id": "cffe7d60",
   "metadata": {
    "scrolled": false
   },
   "outputs": [
    {
     "name": "stdout",
     "output_type": "stream",
     "text": [
      "Split Dataset\n",
      "---------------------------------------------------------\n",
      "X_train: (1258, 19)\n",
      "X_test: (315, 19)\n"
     ]
    }
   ],
   "source": [
    "print('Split Dataset')\n",
    "print('---------------------------------------------------------')\n",
    "X_train, X_test = train_test_split(data, random_state=0, test_size=0.2)\n",
    "print('X_train: ' + str(X_train.shape))\n",
    "print('X_test: ' + str(X_test.shape))"
   ]
  },
  {
   "cell_type": "raw",
   "id": "379fa7d9",
   "metadata": {},
   "source": [
    "In both cases (Prediction of energy consumption, Prediction of CO2 emissions). The list of features to train/test the models is the same: everything except SiteEnergyUse(kBtu) and TotalGHGEmissions (targets and data leaks).\n",
    "I also exclude ENERGYSTARScore whose importance must be assessed. Once finished, I will retrain the model with just the lines where the variable is filled."
   ]
  },
  {
   "cell_type": "code",
   "execution_count": 6,
   "id": "9268ce09",
   "metadata": {},
   "outputs": [
    {
     "name": "stdout",
     "output_type": "stream",
     "text": [
      "X_train_last: (1258, 16)\n",
      "X_test_last: (315, 16)\n"
     ]
    }
   ],
   "source": [
    "X_train_last = X_train.loc[:, (X_train.columns != 'SiteEnergyUse(kBtu)') &\n",
    "                              (X_train.columns != 'TotalGHGEmissions') &\n",
    "                              (X_train.columns != 'ENERGYSTARScore')\n",
    "                           ]\n",
    "X_test_last = X_test.loc[:, (X_test.columns != 'SiteEnergyUse(kBtu)') &\n",
    "                            (X_test.columns != 'TotalGHGEmissions') &\n",
    "                            (X_train.columns != 'ENERGYSTARScore')]\n",
    "print('X_train_last: ' + str(X_train_last.shape))\n",
    "print('X_test_last: ' + str(X_test_last.shape))"
   ]
  },
  {
   "cell_type": "raw",
   "id": "11ff04cc",
   "metadata": {},
   "source": [
    "On the other hand, the targets change: SiteEnergyUse(kBtu) for the prediction of energy consumption and TotalGHGEmissions for the prediction of CO2 emissions"
   ]
  },
  {
   "cell_type": "code",
   "execution_count": 7,
   "id": "cfed422a",
   "metadata": {
    "scrolled": true
   },
   "outputs": [
    {
     "name": "stdout",
     "output_type": "stream",
     "text": [
      "y_train_conso: (1258,)\n",
      "y_test_conso: (315,)\n",
      "y_train_co2: (1258,)\n",
      "y_test_co2: (315,)\n"
     ]
    }
   ],
   "source": [
    "y_train_conso = X_train['SiteEnergyUse(kBtu)']\n",
    "y_test_conso = X_test['SiteEnergyUse(kBtu)']\n",
    "y_train_co2 = X_train['TotalGHGEmissions']\n",
    "y_test_co2 = X_test['TotalGHGEmissions']\n",
    "print('y_train_conso: ' + str(y_train_conso.shape))\n",
    "print('y_test_conso: ' + str(y_test_conso.shape))\n",
    "print('y_train_co2: ' + str(y_train_co2.shape))\n",
    "print('y_test_co2: ' + str(y_test_co2.shape))"
   ]
  },
  {
   "cell_type": "markdown",
   "id": "3bcf7da7",
   "metadata": {},
   "source": [
    "# Preprocessing"
   ]
  },
  {
   "cell_type": "raw",
   "id": "c8fb69d2",
   "metadata": {},
   "source": [
    "Building the preprocessing pipeline"
   ]
  },
  {
   "cell_type": "raw",
   "id": "43cf82dd",
   "metadata": {},
   "source": [
    "Caching of preprocessor actions to avoid repeated executions."
   ]
  },
  {
   "cell_type": "code",
   "execution_count": 9,
   "id": "d7683186",
   "metadata": {},
   "outputs": [],
   "source": [
    "# https://scikit-learn.org/stable/modules/compose.html\n",
    "location = 'C:\\\\Users\\\\james\\\\__p3cache__'\n",
    "cachedir = Memory(location, verbose=0)"
   ]
  },
  {
   "cell_type": "markdown",
   "id": "34d2972a",
   "metadata": {},
   "source": [
    "## Imputer"
   ]
  },
  {
   "cell_type": "raw",
   "id": "7164856a",
   "metadata": {},
   "source": [
    "To deal with missing values, I apply an IterativeImputer on the affected columns."
   ]
  },
  {
   "cell_type": "code",
   "execution_count": 11,
   "id": "e0d6b5f1",
   "metadata": {},
   "outputs": [],
   "source": [
    "imputer = IterativeImputer(initial_strategy='mean', max_iter=10)"
   ]
  },
  {
   "cell_type": "markdown",
   "id": "6435ebe3",
   "metadata": {},
   "source": [
    "## Encoder"
   ]
  },
  {
   "cell_type": "raw",
   "id": "5261f6d2",
   "metadata": {},
   "source": [
    "I apply a OneHotEncoder on the columns containing categorical variables."
   ]
  },
  {
   "cell_type": "code",
   "execution_count": 13,
   "id": "356c76ad",
   "metadata": {},
   "outputs": [],
   "source": [
    "ohe = OneHotEncoder(sparse=False, drop='first', handle_unknown='ignore')"
   ]
  },
  {
   "cell_type": "markdown",
   "id": "5650808b",
   "metadata": {},
   "source": [
    "## Transformer"
   ]
  },
  {
   "cell_type": "code",
   "execution_count": 15,
   "id": "81f8bf62",
   "metadata": {},
   "outputs": [],
   "source": [
    "scaler = StandardScaler(with_mean=False, with_std=False)"
   ]
  },
  {
   "cell_type": "markdown",
   "id": "5da1d7d9",
   "metadata": {},
   "source": [
    "## Preprocessor"
   ]
  },
  {
   "cell_type": "raw",
   "id": "c926d51a",
   "metadata": {},
   "source": [
    "In order to pass to the ColumnTransformer the list of impacted columns, I created 2 lists categoricals and numericals grouping the categorical variables into quantitative ones."
   ]
  },
  {
   "cell_type": "code",
   "execution_count": 17,
   "id": "a6cd6bcd",
   "metadata": {},
   "outputs": [],
   "source": [
    "categoricals = list(X_train_last.select_dtypes('object').columns)\n",
    "numericals = list(X_train_last.select_dtypes(exclude='object').columns)"
   ]
  },
  {
   "cell_type": "code",
   "execution_count": 18,
   "id": "95476c25",
   "metadata": {},
   "outputs": [],
   "source": [
    "pipe_num = Pipeline(steps=[('imputer', imputer),\n",
    "                    ('scaler', scaler)], memory=cachedir)"
   ]
  },
  {
   "cell_type": "code",
   "execution_count": 19,
   "id": "25de9ae9",
   "metadata": {},
   "outputs": [],
   "source": [
    "pipe_cat = Pipeline(steps=[('ohe', ohe)], memory=cachedir)"
   ]
  },
  {
   "cell_type": "raw",
   "id": "ea670abe",
   "metadata": {},
   "source": [
    "I set the remainder parameter to passthrough so that the ColumnTransformer retains all the columns."
   ]
  },
  {
   "cell_type": "code",
   "execution_count": 20,
   "id": "de57421c",
   "metadata": {},
   "outputs": [],
   "source": [
    "preprocessor = ColumnTransformer(transformers=[('num', pipe_num, numericals),\n",
    "                                               ('cat', pipe_cat, categoricals)\n",
    "                                               ], remainder='passthrough')"
   ]
  },
  {
   "cell_type": "markdown",
   "id": "e27539b9",
   "metadata": {},
   "source": [
    "# Modelization"
   ]
  },
  {
   "cell_type": "markdown",
   "id": "08d5a781",
   "metadata": {},
   "source": [
    "## Models"
   ]
  },
  {
   "cell_type": "raw",
   "id": "aeeed2b3",
   "metadata": {},
   "source": [
    "I select for my tests 1 linear model (ElasticNet) and 2 nonlinear"
   ]
  },
  {
   "cell_type": "code",
   "execution_count": 22,
   "id": "5ad260c9",
   "metadata": {},
   "outputs": [],
   "source": [
    "# Linear regression with L1 and L2 combined as regularizers.\n",
    "en = ElasticNet()"
   ]
  },
  {
   "cell_type": "code",
   "execution_count": 23,
   "id": "c70a348d",
   "metadata": {},
   "outputs": [],
   "source": [
    "# Ensemble models\n",
    "\n",
    "# Parallel\n",
    "rfr = RandomForestRegressor()\n",
    "# Sequential\n",
    "hgbr = HistGradientBoostingRegressor()"
   ]
  },
  {
   "cell_type": "code",
   "execution_count": 24,
   "id": "46a42f9b",
   "metadata": {},
   "outputs": [],
   "source": [
    "model_list = list()\n",
    "model_list.append(('ElasticNet', en))\n",
    "model_list.append(('RandomForestRegressor', rfr))\n",
    "model_list.append(('HistGradientBoostingRegressor', hgbr))"
   ]
  },
  {
   "cell_type": "markdown",
   "id": "c1d17dd7",
   "metadata": {},
   "source": [
    "## Pipelines"
   ]
  },
  {
   "cell_type": "code",
   "execution_count": 25,
   "id": "85a18131",
   "metadata": {},
   "outputs": [],
   "source": [
    "def get_pipelines():\n",
    "    pipelines = list()\n",
    "\n",
    "    for model_name, model in model_list:\n",
    "        pipe = Pipeline(steps=[\n",
    "            ('preprocessor', preprocessor),\n",
    "            ('model', model)])\n",
    "        pipelines.append((model_name, pipe))\n",
    "\n",
    "    return pipelines"
   ]
  },
  {
   "cell_type": "markdown",
   "id": "b14c0d7a",
   "metadata": {},
   "source": [
    "## Hyperparameters"
   ]
  },
  {
   "cell_type": "code",
   "execution_count": 27,
   "id": "27e2c3d4",
   "metadata": {},
   "outputs": [],
   "source": [
    "def get_params(model_name):\n",
    "\n",
    "    # Liste et valeurs des hyperparamètres à tester pour chaque combinaison modèle / transformer\n",
    "\n",
    "    if 'ElasticNet' in model_name:\n",
    "        params = [{'preprocessor__num__scaler': [StandardScaler()],\n",
    "                   'preprocessor__num__scaler__with_mean': [False, True],\n",
    "                   'preprocessor__num__scaler__with_std': [False, True],\n",
    "                   'model__alpha': [50, 100],\n",
    "                   'model__l1_ratio': [0.50, 1],\n",
    "                   'model__max_iter': [3000],\n",
    "                   'model__tol': [1e-3],\n",
    "                   'model__selection': ['cyclic', 'random']},\n",
    "                  {'preprocessor__num__scaler': [Normalizer()],\n",
    "                   'preprocessor__num__scaler__norm': ['l1', 'l2', 'max'],\n",
    "                   'model__alpha': [50, 100],\n",
    "                   'model__l1_ratio': [0.50, 1],\n",
    "                   'model__max_iter': [3000],\n",
    "                   'model__tol': [1e-3],\n",
    "                   'model__selection': ['cyclic', 'random']},\n",
    "                  {'preprocessor__num__scaler': [QuantileTransformer()],\n",
    "                   'preprocessor__num__scaler__n_quantiles': [10, 100, 1000],\n",
    "                   'model__alpha': [50, 100],\n",
    "                   'model__l1_ratio': [0.50, 1],\n",
    "                   'model__max_iter': [3000],\n",
    "                   'model__tol': [1e-3],\n",
    "                   'model__selection': ['cyclic', 'random']}\n",
    "                  ]\n",
    "\n",
    "    elif 'RandomForestRegressor' in model_name:\n",
    "        params = [{'preprocessor__num__scaler': [StandardScaler()],\n",
    "                   'preprocessor__num__scaler__with_mean': [False, True],\n",
    "                   'preprocessor__num__scaler__with_std': [False, True],\n",
    "                   'model__n_estimators': [100],\n",
    "                   'model__max_depth': [25, 100],  # [25, 50, 75, 100]\n",
    "                   'model__min_samples_split': [25, 50],  # [2, 25, 75, 100]\n",
    "                   'model__max_features': [4, 8, 'auto', 'sqrt', 'log2']},\n",
    "                  {'preprocessor__num__scaler': [Normalizer()],\n",
    "                   'preprocessor__num__scaler__norm': ['l1', 'l2', 'max'],\n",
    "                   'model__n_estimators': [100],\n",
    "                   'model__max_depth': [25, 100],\n",
    "                   'model__min_samples_split': [25, 50],\n",
    "                   'model__max_features': [4, 8, 'auto', 'sqrt', 'log2']},\n",
    "                  {'preprocessor__num__scaler': [QuantileTransformer()],\n",
    "                   'preprocessor__num__scaler__n_quantiles': [10, 100, 1000],\n",
    "                   'model__n_estimators': [100],\n",
    "                   'model__max_depth': [25, 100],\n",
    "                   'model__min_samples_split': [25, 50],\n",
    "                   'model__max_features': [4, 8, 'auto', 'sqrt', 'log2']}\n",
    "                  ]\n",
    "\n",
    "    elif 'HistGradientBoostingRegressor' in model_name:\n",
    "        params = [{'preprocessor__num__scaler': [StandardScaler()],\n",
    "                   'preprocessor__num__scaler__with_mean': [False, True],\n",
    "                   'preprocessor__num__scaler__with_std': [False, True],\n",
    "                   'model__loss': ['squared_error', 'absolute_error', 'poisson'],\n",
    "                   'model__learning_rate': [0, 0.50, 1],\n",
    "                   'model__max_iter': [100],\n",
    "                   'model__min_samples_leaf': [2, 10, 20],\n",
    "                   'model__max_bins': [2, 127, 255],\n",
    "                   'model__early_stopping': [True]},\n",
    "                  {'preprocessor__num__scaler': [Normalizer()],\n",
    "                   'preprocessor__num__scaler__norm': ['l1', 'l2', 'max'],\n",
    "                   'model__loss': ['squared_error', 'absolute_error', 'poisson'],\n",
    "                   'model__learning_rate': [0, 0.50, 1],\n",
    "                   'model__max_iter': [100],\n",
    "                   'model__min_samples_leaf': [2, 10, 20],\n",
    "                   'model__max_bins': [2, 127, 255],\n",
    "                   'model__early_stopping': [True]},\n",
    "                  {'preprocessor__num__scaler': [QuantileTransformer()],\n",
    "                   'preprocessor__num__scaler__n_quantiles': [10, 100, 1000],\n",
    "                   'model__loss': ['squared_error', 'absolute_error', 'poisson'],\n",
    "                   'model__learning_rate': [0, 0.50, 1],\n",
    "                   'model__max_iter': [100],\n",
    "                   'model__min_samples_leaf': [2, 10, 20],\n",
    "                   'model__max_bins': [2, 127, 255],\n",
    "                   'model__early_stopping': [True]}\n",
    "                  ]\n",
    "\n",
    "    return params"
   ]
  },
  {
   "cell_type": "markdown",
   "id": "1382f2b0",
   "metadata": {},
   "source": [
    "## Evaluation"
   ]
  },
  {
   "cell_type": "code",
   "execution_count": 29,
   "id": "4f7a1f12",
   "metadata": {},
   "outputs": [],
   "source": [
    "def evaluation(y, display):\n",
    "\n",
    "    fit_times = ()\n",
    "    score_times = ()\n",
    "    scores_train = ()\n",
    "    scores_test = ()\n",
    "    grids = dict()\n",
    "\n",
    "    for name, pipeline in get_pipelines():\n",
    "        print('-------------------------------------------------------')\n",
    "        print(name)\n",
    "        print('-------------------------------------------------------')\n",
    "        print('Start: ', time.asctime())\n",
    "\n",
    "        grid = GridSearchCV(pipeline,\n",
    "                            param_grid=get_params(name),\n",
    "                            scoring='r2',\n",
    "                            verbose=1,\n",
    "                            cv=5,\n",
    "                            n_jobs=-1,\n",
    "                            return_train_score=True,\n",
    "                            refit=True)\n",
    "\n",
    "        regr_trans = TransformedTargetRegressor(\n",
    "            regressor=grid, func=None, inverse_func=None)\n",
    "        regr_trans.fit(X_train_last, y)\n",
    "\n",
    "        if display:\n",
    "            print('Meilleur(s) hyperparamètre(s) sur le testing set')\n",
    "            print(regr_trans.regressor_.best_params_)\n",
    "            print('')\n",
    "\n",
    "        mean_fit_time = regr_trans.regressor_.cv_results_[\n",
    "            'mean_fit_time'][regr_trans.regressor_.best_index_]\n",
    "        fit_times = fit_times + (mean_fit_time,)\n",
    "        if display:\n",
    "            print('mean_fit_time: ' + str(mean_fit_time))\n",
    "\n",
    "        mean_score_time = regr_trans.regressor_.cv_results_[\n",
    "            'mean_score_time'][regr_trans.regressor_.best_index_]\n",
    "        score_times = score_times + (mean_score_time,)\n",
    "        if display:\n",
    "            print('mean_score_time: ' + str(mean_score_time))\n",
    "\n",
    "        mean_train_score = regr_trans.regressor_.cv_results_[\n",
    "            'mean_train_score'][regr_trans.regressor_.best_index_]\n",
    "        scores_train = scores_train + (mean_train_score,)\n",
    "        if display:\n",
    "            print('mean_train_score: ' + str(mean_train_score))\n",
    "\n",
    "        mean_test_score = regr_trans.regressor_.cv_results_[\n",
    "            'mean_test_score'][regr_trans.regressor_.best_index_]\n",
    "        scores_test = scores_test + (mean_test_score,)\n",
    "        if display:\n",
    "            print('mean_test_score: ' + str(mean_test_score))\n",
    "\n",
    "        grids[name] = regr_trans\n",
    "\n",
    "        print('End: ', time.asctime())\n",
    "        print('')\n",
    "\n",
    "    return fit_times, score_times, scores_train, scores_test, grids"
   ]
  },
  {
   "cell_type": "code",
   "execution_count": 30,
   "id": "abd42be5",
   "metadata": {},
   "outputs": [],
   "source": [
    "def final(regressor, X_test, y_test, model_name, title, tabrmse, tabr2):\n",
    "    y_pred = regressor.predict(X_test)\n",
    "\n",
    "    # Graph\n",
    "    plt.scatter(y_test, y_pred, label=model_name)\n",
    "    plt.ylabel(\"Target predicted\")\n",
    "    plt.xlabel(\"True Target\")\n",
    "    plt.title(title)\n",
    "    plt.xlim([0, y_test.max()])\n",
    "    plt.ylim([0, y_pred.max()])\n",
    "    plt.show()\n",
    "\n",
    "    # Coefs\n",
    "    print('')\n",
    "    print('MSE (Mean Squared Error)=%.3f' % mean_squared_error(y_test, y_pred))\n",
    "    print('RMSE (Root Mean Squared Error)=%.3f' %\n",
    "          math.sqrt(mean_squared_error(y_test, y_pred)))\n",
    "    tabrmse = tabrmse + (math.sqrt(mean_squared_error(y_test, y_pred)),)\n",
    "    print('')\n",
    "    print(\"R2 Test set=%.2f\" % r2_score(y_test, y_pred))\n",
    "    tabr2 = tabr2 + (r2_score(y_test, y_pred),)\n",
    "    print(\"RSE (Relative Squared Error)=%.2f\" % (1-r2_score(y_test, y_pred)))\n",
    "    print('')\n",
    "    stat, p = st.pearsonr(y_test, y_pred)\n",
    "    print('Pearson=%.3f, pvalue=%.3f' % (stat, p))\n",
    "\n",
    "    return tabrmse, tabr2"
   ]
  },
  {
   "cell_type": "markdown",
   "id": "77c0eb05",
   "metadata": {},
   "source": [
    "## Graphique"
   ]
  },
  {
   "cell_type": "code",
   "execution_count": 32,
   "id": "16842835",
   "metadata": {},
   "outputs": [],
   "source": [
    "models = []\n",
    "\n",
    "for model_name, model in model_list:\n",
    "    models.append(re.sub('[^A-Z]', '', model_name))"
   ]
  },
  {
   "cell_type": "code",
   "execution_count": 33,
   "id": "98d72a59",
   "metadata": {},
   "outputs": [],
   "source": [
    "def graphFitScore(model_list, data1, data2, ylabel, title, label1, label2):\n",
    "    N = len(model_list)\n",
    "\n",
    "    ind = np.arange(N)\n",
    "    width = 0.35\n",
    "    plt.bar(ind, data1, width, label=label1)\n",
    "    plt.bar(ind + width, data2, width, label=label2)\n",
    "\n",
    "    plt.ylabel(ylabel)\n",
    "    plt.title(title)\n",
    "\n",
    "    plt.xticks(ind + width / 2, models)\n",
    "    plt.legend(loc='best')\n",
    "    plt.gcf().savefig(title, dpi=100)\n",
    "    plt.show()"
   ]
  },
  {
   "cell_type": "code",
   "execution_count": 34,
   "id": "261eff7c",
   "metadata": {},
   "outputs": [],
   "source": [
    "def graph(model_list, train, test, ylabel, title):\n",
    "    N = len(model_list)\n",
    "\n",
    "    ind = np.arange(N)\n",
    "    width = 0.35\n",
    "    plt.bar(ind, train, width, label='train')\n",
    "    plt.bar(ind + width, test, width, label='test')\n",
    "\n",
    "    plt.ylabel(ylabel)\n",
    "    plt.title(title)\n",
    "\n",
    "    plt.xticks(ind + width / 2, models)\n",
    "    plt.legend(loc='best')\n",
    "    plt.gcf().savefig(title, dpi=100)\n",
    "    plt.show()"
   ]
  },
  {
   "cell_type": "markdown",
   "id": "c2797329",
   "metadata": {},
   "source": [
    "# Evaluation of models by cross-validation"
   ]
  },
  {
   "cell_type": "code",
   "execution_count": 35,
   "id": "49a3b809",
   "metadata": {},
   "outputs": [],
   "source": [
    "rmse_conso = ()\n",
    "r2conso = ()\n",
    "rmse_co2 = ()\n",
    "r2co2 = ()"
   ]
  },
  {
   "cell_type": "markdown",
   "id": "0910cc3f",
   "metadata": {},
   "source": [
    "## Energy consumption"
   ]
  },
  {
   "cell_type": "code",
   "execution_count": 36,
   "id": "da972f95",
   "metadata": {
    "scrolled": true
   },
   "outputs": [
    {
     "name": "stdout",
     "output_type": "stream",
     "text": [
      "-------------------------------------------------------\n",
      "ElasticNet\n",
      "-------------------------------------------------------\n",
      "Start:  Fri Dec 24 17:03:02 2021\n",
      "Fitting 5 folds for each of 80 candidates, totalling 400 fits\n",
      "Meilleur(s) hyperparamètre(s) sur le testing set\n",
      "{'model__alpha': 100, 'model__l1_ratio': 0.5, 'model__max_iter': 3000, 'model__selection': 'cyclic', 'model__tol': 0.001, 'preprocessor__num__scaler': StandardScaler(with_std=False), 'preprocessor__num__scaler__with_mean': True, 'preprocessor__num__scaler__with_std': False}\n",
      "\n",
      "mean_fit_time: 0.5321223735809326\n",
      "mean_score_time: 0.014003562927246093\n",
      "mean_train_score: 0.7790261350106583\n",
      "mean_test_score: 0.538710448119629\n",
      "End:  Fri Dec 24 17:03:14 2021\n",
      "\n",
      "-------------------------------------------------------\n",
      "RandomForestRegressor\n",
      "-------------------------------------------------------\n",
      "Start:  Fri Dec 24 17:03:14 2021\n",
      "Fitting 5 folds for each of 200 candidates, totalling 1000 fits\n",
      "Meilleur(s) hyperparamètre(s) sur le testing set\n",
      "{'model__max_depth': 25, 'model__max_features': 'auto', 'model__min_samples_split': 25, 'model__n_estimators': 100, 'preprocessor__num__scaler': QuantileTransformer(), 'preprocessor__num__scaler__n_quantiles': 1000}\n",
      "\n",
      "mean_fit_time: 1.0780640125274659\n",
      "mean_score_time: 2.633168268203735\n",
      "mean_train_score: 0.8208091238031573\n",
      "mean_test_score: 0.5439529322684805\n",
      "End:  Fri Dec 24 17:03:48 2021\n",
      "\n",
      "-------------------------------------------------------\n",
      "HistGradientBoostingRegressor\n",
      "-------------------------------------------------------\n",
      "Start:  Fri Dec 24 17:03:48 2021\n",
      "Fitting 5 folds for each of 810 candidates, totalling 4050 fits\n",
      "Meilleur(s) hyperparamètre(s) sur le testing set\n",
      "{'model__early_stopping': True, 'model__learning_rate': 0.5, 'model__loss': 'absolute_error', 'model__max_bins': 127, 'model__max_iter': 100, 'model__min_samples_leaf': 2, 'preprocessor__num__scaler': Normalizer(norm='max'), 'preprocessor__num__scaler__norm': 'max'}\n",
      "\n",
      "mean_fit_time: 0.39328975677490235\n",
      "mean_score_time: 0.018805456161499024\n",
      "mean_train_score: 0.4131618597435576\n",
      "mean_test_score: 0.41638002211186487\n",
      "End:  Fri Dec 24 17:04:53 2021\n",
      "\n"
     ]
    }
   ],
   "source": [
    "fit_times_conso, score_times_conso, scores_train_conso, scores_test_conso, grids_conso = evaluation(\n",
    "    y_train_conso, True)"
   ]
  },
  {
   "cell_type": "code",
   "execution_count": 37,
   "id": "f2c7bb6b",
   "metadata": {},
   "outputs": [],
   "source": [
    "r2conso = r2conso + (scores_test_conso[1],)"
   ]
  },
  {
   "cell_type": "code",
   "execution_count": 38,
   "id": "b90f5582",
   "metadata": {
    "scrolled": false
   },
   "outputs": [
    {
     "data": {
      "image/png": "[encoded data removed]",
      "text/plain": [
       "<Figure size 432x288 with 1 Axes>"
      ]
     },
     "metadata": {
      "needs_background": "light"
     },
     "output_type": "display_data"
    }
   ],
   "source": [
    "# Graph\n",
    "graphFitScore(model_list, fit_times_conso, score_times_conso, 'Time',\n",
    "              'Consommation - fit et score times par modèle', 'fit_time', 'score_time')"
   ]
  },
  {
   "cell_type": "code",
   "execution_count": 39,
   "id": "cab091f1",
   "metadata": {
    "scrolled": false
   },
   "outputs": [
    {
     "data": {
      "image/png": "[encoded data removed]",
      "text/plain": [
       "<Figure size 432x288 with 1 Axes>"
      ]
     },
     "metadata": {
      "needs_background": "light"
     },
     "output_type": "display_data"
    }
   ],
   "source": [
    "graph(model_list, scores_train_conso, scores_test_conso,\n",
    "      'Scores', 'Consommation - Scores par modèle')"
   ]
  },
  {
   "cell_type": "markdown",
   "id": "00a48d65",
   "metadata": {},
   "source": [
    "## CO2 emissions"
   ]
  },
  {
   "cell_type": "code",
   "execution_count": 40,
   "id": "e9f8d7f8",
   "metadata": {},
   "outputs": [
    {
     "name": "stdout",
     "output_type": "stream",
     "text": [
      "-------------------------------------------------------\n",
      "ElasticNet\n",
      "-------------------------------------------------------\n",
      "Start:  Fri Dec 24 17:04:54 2021\n",
      "Fitting 5 folds for each of 80 candidates, totalling 400 fits\n",
      "Meilleur(s) hyperparamètre(s) sur le testing set\n",
      "{'model__alpha': 100, 'model__l1_ratio': 1, 'model__max_iter': 3000, 'model__selection': 'cyclic', 'model__tol': 0.001, 'preprocessor__num__scaler': StandardScaler(), 'preprocessor__num__scaler__with_mean': True, 'preprocessor__num__scaler__with_std': True}\n",
      "\n",
      "mean_fit_time: 0.06001729965209961\n",
      "mean_score_time: 0.016803503036499023\n",
      "mean_train_score: 0.4507455635197136\n",
      "mean_test_score: 0.15985068577202827\n",
      "End:  Fri Dec 24 17:04:58 2021\n",
      "\n",
      "-------------------------------------------------------\n",
      "RandomForestRegressor\n",
      "-------------------------------------------------------\n",
      "Start:  Fri Dec 24 17:04:58 2021\n",
      "Fitting 5 folds for each of 200 candidates, totalling 1000 fits\n",
      "Meilleur(s) hyperparamètre(s) sur le testing set\n",
      "{'model__max_depth': 100, 'model__max_features': 'auto', 'model__min_samples_split': 25, 'model__n_estimators': 100, 'preprocessor__num__scaler': StandardScaler(), 'preprocessor__num__scaler__with_mean': True, 'preprocessor__num__scaler__with_std': True}\n",
      "\n",
      "mean_fit_time: 1.1275007247924804\n",
      "mean_score_time: 0.02320685386657715\n",
      "mean_train_score: 0.768604160325664\n",
      "mean_test_score: 0.4670033017385096\n",
      "End:  Fri Dec 24 17:05:31 2021\n",
      "\n",
      "-------------------------------------------------------\n",
      "HistGradientBoostingRegressor\n",
      "-------------------------------------------------------\n",
      "Start:  Fri Dec 24 17:05:31 2021\n",
      "Fitting 5 folds for each of 810 candidates, totalling 4050 fits\n",
      "Meilleur(s) hyperparamètre(s) sur le testing set\n",
      "{'model__early_stopping': True, 'model__learning_rate': 0.5, 'model__loss': 'absolute_error', 'model__max_bins': 255, 'model__max_iter': 100, 'model__min_samples_leaf': 2, 'preprocessor__num__scaler': QuantileTransformer(n_quantiles=100), 'preprocessor__num__scaler__n_quantiles': 100}\n",
      "\n",
      "mean_fit_time: 0.5121377944946289\n",
      "mean_score_time: 0.02080569267272949\n",
      "mean_train_score: 0.5966743062676128\n",
      "mean_test_score: 0.39870712686328413\n",
      "End:  Fri Dec 24 17:06:36 2021\n",
      "\n"
     ]
    }
   ],
   "source": [
    "fit_times_co2, score_times_co2, scores_train_co2, scores_test_co2, grids_co2 = evaluation(\n",
    "    y_train_co2, True)"
   ]
  },
  {
   "cell_type": "code",
   "execution_count": 41,
   "id": "23c07018",
   "metadata": {},
   "outputs": [],
   "source": [
    "r2co2 = r2co2 + (scores_test_co2[1],)"
   ]
  },
  {
   "cell_type": "code",
   "execution_count": 42,
   "id": "52888478",
   "metadata": {},
   "outputs": [
    {
     "data": {
      "image/png": "[encoded data removed]",
      "text/plain": [
       "<Figure size 432x288 with 1 Axes>"
      ]
     },
     "metadata": {
      "needs_background": "light"
     },
     "output_type": "display_data"
    }
   ],
   "source": [
    "# Graph\n",
    "graphFitScore(model_list, fit_times_co2, score_times_co2, 'Time', 'Emissions - fit et score times par modèle',\n",
    "              'fit_time', 'score_time')"
   ]
  },
  {
   "cell_type": "code",
   "execution_count": 43,
   "id": "a3f69310",
   "metadata": {
    "scrolled": true
   },
   "outputs": [
    {
     "data": {
      "image/png": "[encoded data removed]",
      "text/plain": [
       "<Figure size 432x288 with 1 Axes>"
      ]
     },
     "metadata": {
      "needs_background": "light"
     },
     "output_type": "display_data"
    }
   ],
   "source": [
    "graph(model_list, scores_train_co2, scores_test_co2,\n",
    "      'Scores', 'Emissions - Scores par modèle')"
   ]
  },
  {
   "cell_type": "markdown",
   "id": "57f78f62",
   "metadata": {},
   "source": [
    "# Final models evaluation"
   ]
  },
  {
   "cell_type": "markdown",
   "id": "fd8efa0a",
   "metadata": {},
   "source": [
    "## Energy consumption"
   ]
  },
  {
   "cell_type": "raw",
   "id": "7cf1b77d",
   "metadata": {},
   "source": [
    "Following cross-validation, the RandomForestRegressor model was selected."
   ]
  },
  {
   "cell_type": "code",
   "execution_count": 45,
   "id": "9e0bd5be",
   "metadata": {
    "scrolled": true
   },
   "outputs": [
    {
     "data": {
      "image/png": "[encoded data removed]",
      "text/plain": [
       "<Figure size 432x288 with 1 Axes>"
      ]
     },
     "metadata": {
      "needs_background": "light"
     },
     "output_type": "display_data"
    },
    {
     "name": "stdout",
     "output_type": "stream",
     "text": [
      "\n",
      "MSE (Mean Squared Error)=138953974253004.344\n",
      "RMSE (Root Mean Squared Error)=11787874.034\n",
      "\n",
      "R2 Test set=0.74\n",
      "RSE (Relative Squared Error)=0.26\n",
      "\n",
      "Pearson=0.900, pvalue=0.000\n"
     ]
    }
   ],
   "source": [
    "rmse_conso, r2conso = final(grids_conso['RandomForestRegressor'], X_test_last, y_test_conso,\n",
    "                            'RandomForestRegressor', \"Consommation d'énergie\", rmse_conso, r2conso)"
   ]
  },
  {
   "cell_type": "markdown",
   "id": "a7bf82ad",
   "metadata": {},
   "source": [
    "## CO2 emissions"
   ]
  },
  {
   "cell_type": "raw",
   "id": "1b5e944b",
   "metadata": {},
   "source": [
    "Following cross-validation, the RandomForestRegressor model was selected."
   ]
  },
  {
   "cell_type": "code",
   "execution_count": 46,
   "id": "ca936250",
   "metadata": {
    "scrolled": true
   },
   "outputs": [
    {
     "data": {
      "image/png": "[encoded data removed]",
      "text/plain": [
       "<Figure size 432x288 with 1 Axes>"
      ]
     },
     "metadata": {
      "needs_background": "light"
     },
     "output_type": "display_data"
    },
    {
     "name": "stdout",
     "output_type": "stream",
     "text": [
      "\n",
      "MSE (Mean Squared Error)=236804.725\n",
      "RMSE (Root Mean Squared Error)=486.626\n",
      "\n",
      "R2 Test set=0.61\n",
      "RSE (Relative Squared Error)=0.39\n",
      "\n",
      "Pearson=0.847, pvalue=0.000\n"
     ]
    }
   ],
   "source": [
    "rmse_co2, r2co2 = final(grids_co2['RandomForestRegressor'], X_test_last, y_test_co2,\n",
    "                        'RandomForestRegressor', 'Emissions de CO2', rmse_co2, r2co2)"
   ]
  },
  {
   "cell_type": "markdown",
   "id": "9e7a23fb",
   "metadata": {},
   "source": [
    "# Tuning"
   ]
  },
  {
   "cell_type": "markdown",
   "id": "3bf9a93a",
   "metadata": {},
   "source": [
    "## Energy consumption"
   ]
  },
  {
   "cell_type": "markdown",
   "id": "38259849",
   "metadata": {},
   "source": [
    "### StandardScaler on target"
   ]
  },
  {
   "cell_type": "code",
   "execution_count": 55,
   "id": "1c6d6b08",
   "metadata": {},
   "outputs": [],
   "source": [
    "standards_pipe_conso = clone(grids_conso['RandomForestRegressor'])"
   ]
  },
  {
   "cell_type": "code",
   "execution_count": 56,
   "id": "f628c01f",
   "metadata": {},
   "outputs": [],
   "source": [
    "standards_pipe_conso.transformer = StandardScaler()"
   ]
  },
  {
   "cell_type": "code",
   "execution_count": 63,
   "id": "ef619707",
   "metadata": {},
   "outputs": [
    {
     "name": "stdout",
     "output_type": "stream",
     "text": [
      "Start:  Fri Dec 24 17:10:07 2021\n",
      "Fitting 5 folds for each of 200 candidates, totalling 1000 fits\n",
      "End:  Fri Dec 24 17:10:36 2021\n"
     ]
    }
   ],
   "source": [
    "print('Start: ', time.asctime())\n",
    "standards_conso = standards_pipe_conso.fit(X_train_last, y_train_conso)\n",
    "print('End: ', time.asctime())"
   ]
  },
  {
   "cell_type": "code",
   "execution_count": 64,
   "id": "fece4e0d",
   "metadata": {
    "scrolled": true
   },
   "outputs": [
    {
     "data": {
      "image/png": "[encoded data removed]",
      "text/plain": [
       "<Figure size 432x288 with 1 Axes>"
      ]
     },
     "metadata": {
      "needs_background": "light"
     },
     "output_type": "display_data"
    },
    {
     "name": "stdout",
     "output_type": "stream",
     "text": [
      "\n",
      "MSE (Mean Squared Error)=125887520883204.828\n",
      "RMSE (Root Mean Squared Error)=11219960.824\n",
      "\n",
      "R2 Test set=0.76\n",
      "RSE (Relative Squared Error)=0.24\n",
      "\n",
      "Pearson=0.909, pvalue=0.000\n"
     ]
    }
   ],
   "source": [
    "rmse_conso, r2conso = final(standards_pipe_conso, X_test_last, y_test_conso,\n",
    "                            'RandomForestRegressor', \"Consommation d'énergie\", rmse_conso, r2conso)"
   ]
  },
  {
   "cell_type": "raw",
   "id": "deeeb38b",
   "metadata": {},
   "source": [
    "Positive impact: The coefficient of determination R2 goes from 0.74 to 0.76"
   ]
  },
  {
   "cell_type": "markdown",
   "id": "c61eb0a3",
   "metadata": {},
   "source": [
    "### Hyperparameters"
   ]
  },
  {
   "cell_type": "code",
   "execution_count": 65,
   "id": "56f9faee",
   "metadata": {
    "scrolled": false
   },
   "outputs": [
    {
     "data": {
      "text/plain": [
       "{'model__max_depth': 100,\n",
       " 'model__max_features': 'auto',\n",
       " 'model__min_samples_split': 25,\n",
       " 'model__n_estimators': 100,\n",
       " 'preprocessor__num__scaler': QuantileTransformer(),\n",
       " 'preprocessor__num__scaler__n_quantiles': 1000}"
      ]
     },
     "execution_count": 65,
     "metadata": {},
     "output_type": "execute_result"
    }
   ],
   "source": [
    "standards_pipe_conso.regressor_.best_params_"
   ]
  },
  {
   "cell_type": "code",
   "execution_count": 66,
   "id": "3c10a6f4",
   "metadata": {},
   "outputs": [],
   "source": [
    "standards_pipe_conso.regressor.param_grid = {\n",
    "    'model__max_depth': arange(50, 75, 1),\n",
    "    'model__max_features': ['auto', 'sqrt', 'log2'],\n",
    "    'model__min_samples_split': arange(2, 25, 5),\n",
    "    'model__n_estimators': arange(80, 120, 5),\n",
    "    'preprocessor__num__scaler': [QuantileTransformer()],\n",
    "    'preprocessor__num__scaler__n_quantiles': [1000]}"
   ]
  },
  {
   "cell_type": "code",
   "execution_count": 67,
   "id": "88f0de00",
   "metadata": {},
   "outputs": [
    {
     "name": "stdout",
     "output_type": "stream",
     "text": [
      "Start:  Fri Dec 24 17:11:38 2021\n",
      "Fitting 5 folds for each of 3000 candidates, totalling 15000 fits\n",
      "End:  Fri Dec 24 17:22:20 2021\n"
     ]
    }
   ],
   "source": [
    "print('Start: ', time.asctime())\n",
    "fit = standards_pipe_conso.fit(X_train_last, y_train_conso)\n",
    "print('End: ', time.asctime())"
   ]
  },
  {
   "cell_type": "code",
   "execution_count": 68,
   "id": "83ae6bda",
   "metadata": {},
   "outputs": [
    {
     "data": {
      "text/plain": [
       "{'model__max_depth': 50,\n",
       " 'model__max_features': 'auto',\n",
       " 'model__min_samples_split': 7,\n",
       " 'model__n_estimators': 85,\n",
       " 'preprocessor__num__scaler': QuantileTransformer(),\n",
       " 'preprocessor__num__scaler__n_quantiles': 1000}"
      ]
     },
     "execution_count": 68,
     "metadata": {},
     "output_type": "execute_result"
    }
   ],
   "source": [
    "standards_pipe_conso.regressor_.best_params_"
   ]
  },
  {
   "cell_type": "code",
   "execution_count": 69,
   "id": "359eeeb0",
   "metadata": {
    "scrolled": true
   },
   "outputs": [
    {
     "data": {
      "image/png": "[encoded data removed]",
      "text/plain": [
       "<Figure size 432x288 with 1 Axes>"
      ]
     },
     "metadata": {
      "needs_background": "light"
     },
     "output_type": "display_data"
    },
    {
     "name": "stdout",
     "output_type": "stream",
     "text": [
      "\n",
      "MSE (Mean Squared Error)=95006955497952.578\n",
      "RMSE (Root Mean Squared Error)=9747151.148\n",
      "\n",
      "R2 Test set=0.82\n",
      "RSE (Relative Squared Error)=0.18\n",
      "\n",
      "Pearson=0.937, pvalue=0.000\n"
     ]
    }
   ],
   "source": [
    "rmse_conso, r2conso = final(standards_pipe_conso, X_test_last, y_test_conso,\n",
    "                            'RandomForestRegressor', \"Consommation d'énergie\", rmse_conso, r2conso)"
   ]
  },
  {
   "cell_type": "raw",
   "id": "f649851a",
   "metadata": {},
   "source": [
    "Positive impact: The coefficient of determination R2 increases from 0.76 to 0.82"
   ]
  },
  {
   "cell_type": "markdown",
   "id": "63689f1f",
   "metadata": {},
   "source": [
    "### Results"
   ]
  },
  {
   "cell_type": "code",
   "execution_count": 74,
   "id": "8dafe9df",
   "metadata": {},
   "outputs": [
    {
     "data": {
      "image/png": "[encoded data removed]",
      "text/plain": [
       "<Figure size 432x288 with 1 Axes>"
      ]
     },
     "metadata": {
      "needs_background": "light"
     },
     "output_type": "display_data"
    }
   ],
   "source": [
    "plt.bar(np.arange(3), rmse_conso, 0.35)\n",
    "plt.ylabel('Error')\n",
    "plt.title('Impact du tuning sur la RMSE (conso)')\n",
    "plt.xticks(np.arange(3), ('Test set', 'Standard', 'Tuned'))\n",
    "plt.show()"
   ]
  },
  {
   "cell_type": "code",
   "execution_count": 75,
   "id": "ec825405",
   "metadata": {},
   "outputs": [
    {
     "data": {
      "image/png": "[encoded data removed]",
      "text/plain": [
       "<Figure size 432x288 with 1 Axes>"
      ]
     },
     "metadata": {
      "needs_background": "light"
     },
     "output_type": "display_data"
    }
   ],
   "source": [
    "plt.bar(np.arange(4), r2conso, 0.35)\n",
    "plt.ylabel('Scores')\n",
    "plt.title('Impact du tuning sur les scores (conso)')\n",
    "plt.xticks(np.arange(4), ('CV', 'Test set', 'Standard', 'Tuned'))\n",
    "plt.show()"
   ]
  },
  {
   "cell_type": "markdown",
   "id": "6e9d7b44",
   "metadata": {},
   "source": [
    "## CO2 emissions"
   ]
  },
  {
   "cell_type": "markdown",
   "id": "6a5b248b",
   "metadata": {},
   "source": [
    "### StandardScaler on target"
   ]
  },
  {
   "cell_type": "code",
   "execution_count": 76,
   "id": "a428dbfb",
   "metadata": {},
   "outputs": [],
   "source": [
    "standards_pipe_co2 = clone(grids_co2['RandomForestRegressor'])"
   ]
  },
  {
   "cell_type": "code",
   "execution_count": 77,
   "id": "50760024",
   "metadata": {},
   "outputs": [],
   "source": [
    "standards_pipe_co2.transformer = StandardScaler()"
   ]
  },
  {
   "cell_type": "code",
   "execution_count": 78,
   "id": "2a361034",
   "metadata": {},
   "outputs": [
    {
     "name": "stdout",
     "output_type": "stream",
     "text": [
      "Start:  Fri Dec 24 17:24:35 2021\n",
      "Fitting 5 folds for each of 200 candidates, totalling 1000 fits\n",
      "End:  Fri Dec 24 17:25:05 2021\n"
     ]
    }
   ],
   "source": [
    "print('Start: ', time.asctime())\n",
    "log_co2 = standards_pipe_co2.fit(X_train_last, y_train_co2)\n",
    "print('End: ', time.asctime())"
   ]
  },
  {
   "cell_type": "code",
   "execution_count": 79,
   "id": "558ad3c7",
   "metadata": {
    "scrolled": true
   },
   "outputs": [
    {
     "data": {
      "image/png": "[encoded data removed]",
      "text/plain": [
       "<Figure size 432x288 with 1 Axes>"
      ]
     },
     "metadata": {
      "needs_background": "light"
     },
     "output_type": "display_data"
    },
    {
     "name": "stdout",
     "output_type": "stream",
     "text": [
      "\n",
      "MSE (Mean Squared Error)=215931.938\n",
      "RMSE (Root Mean Squared Error)=464.685\n",
      "\n",
      "R2 Test set=0.65\n",
      "RSE (Relative Squared Error)=0.35\n",
      "\n",
      "Pearson=0.873, pvalue=0.000\n"
     ]
    }
   ],
   "source": [
    "rmse_co2, r2co2 = final(standards_pipe_co2, X_test_last, y_test_co2,\n",
    "                        'RandomForestRegressor', \"Emissions de CO2\", rmse_co2, r2co2)"
   ]
  },
  {
   "cell_type": "raw",
   "id": "f1e81fbb",
   "metadata": {},
   "source": [
    "Positive impact: The coefficient of determination R2 goes from 0.61 to 0.65"
   ]
  },
  {
   "cell_type": "markdown",
   "id": "3acee972",
   "metadata": {},
   "source": [
    "### Hyperparameters"
   ]
  },
  {
   "cell_type": "code",
   "execution_count": 80,
   "id": "15b5c2e2",
   "metadata": {},
   "outputs": [
    {
     "data": {
      "text/plain": [
       "{'model__max_depth': 100,\n",
       " 'model__max_features': 'auto',\n",
       " 'model__min_samples_split': 25,\n",
       " 'model__n_estimators': 100,\n",
       " 'preprocessor__num__scaler': QuantileTransformer(),\n",
       " 'preprocessor__num__scaler__n_quantiles': 1000}"
      ]
     },
     "execution_count": 80,
     "metadata": {},
     "output_type": "execute_result"
    }
   ],
   "source": [
    "standards_pipe_co2.regressor_.best_params_"
   ]
  },
  {
   "cell_type": "code",
   "execution_count": 88,
   "id": "bd000e5a",
   "metadata": {},
   "outputs": [],
   "source": [
    "standards_pipe_co2.regressor.param_grid = {\n",
    "    'model__max_depth': arange(50, 100, 10),\n",
    "    'model__max_features': ['auto', 'sqrt', 'log2'],\n",
    "    'model__min_samples_split': arange(2, 5, 1),\n",
    "    'model__n_estimators': arange(95, 105, 1),\n",
    "    'preprocessor__num__scaler': [QuantileTransformer()],\n",
    "    'preprocessor__num__scaler__n_quantiles': [1000]}"
   ]
  },
  {
   "cell_type": "code",
   "execution_count": 89,
   "id": "610caa54",
   "metadata": {
    "scrolled": true
   },
   "outputs": [
    {
     "name": "stdout",
     "output_type": "stream",
     "text": [
      "Start:  Fri Dec 24 17:28:54 2021\n",
      "Fitting 5 folds for each of 450 candidates, totalling 2250 fits\n",
      "End:  Fri Dec 24 17:30:33 2021\n"
     ]
    }
   ],
   "source": [
    "print('Start: ', time.asctime())\n",
    "fit = standards_pipe_co2.fit(X_train_last, y_train_co2)\n",
    "print('End: ', time.asctime())"
   ]
  },
  {
   "cell_type": "code",
   "execution_count": 90,
   "id": "0ea126ed",
   "metadata": {},
   "outputs": [
    {
     "data": {
      "text/plain": [
       "{'model__max_depth': 80,\n",
       " 'model__max_features': 'auto',\n",
       " 'model__min_samples_split': 2,\n",
       " 'model__n_estimators': 100,\n",
       " 'preprocessor__num__scaler': QuantileTransformer(),\n",
       " 'preprocessor__num__scaler__n_quantiles': 1000}"
      ]
     },
     "execution_count": 90,
     "metadata": {},
     "output_type": "execute_result"
    }
   ],
   "source": [
    "standards_pipe_co2.regressor_.best_params_"
   ]
  },
  {
   "cell_type": "code",
   "execution_count": 91,
   "id": "8c736381",
   "metadata": {
    "scrolled": true
   },
   "outputs": [
    {
     "data": {
      "image/png": "[encoded data removed]",
      "text/plain": [
       "<Figure size 432x288 with 1 Axes>"
      ]
     },
     "metadata": {
      "needs_background": "light"
     },
     "output_type": "display_data"
    },
    {
     "name": "stdout",
     "output_type": "stream",
     "text": [
      "\n",
      "MSE (Mean Squared Error)=163143.535\n",
      "RMSE (Root Mean Squared Error)=403.910\n",
      "\n",
      "R2 Test set=0.73\n",
      "RSE (Relative Squared Error)=0.27\n",
      "\n",
      "Pearson=0.897, pvalue=0.000\n"
     ]
    }
   ],
   "source": [
    "rmse_co2, r2co2 = final(standards_pipe_co2, X_test_last, y_test_co2,\n",
    "                        'RandomForestRegressor', 'Emissions de CO2', rmse_co2, r2co2)"
   ]
  },
  {
   "cell_type": "raw",
   "id": "28d43c3c",
   "metadata": {},
   "source": [
    "Positive impact: The coefficient of determination R2 increases from 0.65 to 0.73"
   ]
  },
  {
   "cell_type": "markdown",
   "id": "d5e62847",
   "metadata": {},
   "source": [
    "### Results"
   ]
  },
  {
   "cell_type": "code",
   "execution_count": 96,
   "id": "cc1c10fc",
   "metadata": {
    "scrolled": false
   },
   "outputs": [
    {
     "data": {
      "image/png": "[encoded data removed]",
      "text/plain": [
       "<Figure size 432x288 with 1 Axes>"
      ]
     },
     "metadata": {
      "needs_background": "light"
     },
     "output_type": "display_data"
    }
   ],
   "source": [
    "plt.bar(np.arange(3), rmse_co2, 0.35)\n",
    "plt.ylabel('Error')\n",
    "plt.title('Impact du tuning sur la RMSE (conso)')\n",
    "plt.xticks(np.arange(3), ('Test set', 'Standard', 'Tuned'))\n",
    "plt.show()"
   ]
  },
  {
   "cell_type": "code",
   "execution_count": 97,
   "id": "0c8fe736",
   "metadata": {
    "scrolled": true
   },
   "outputs": [
    {
     "data": {
      "image/png": "[encoded data removed]",
      "text/plain": [
       "<Figure size 432x288 with 1 Axes>"
      ]
     },
     "metadata": {
      "needs_background": "light"
     },
     "output_type": "display_data"
    }
   ],
   "source": [
    "plt.bar(np.arange(4), r2co2, 0.35)\n",
    "plt.ylabel('Scores')\n",
    "plt.title('Impact du tuning sur les scores (co2)')\n",
    "plt.xticks(np.arange(4), ('CV', 'Test set', 'Standard', 'Tuned'))\n",
    "plt.show()"
   ]
  },
  {
   "cell_type": "markdown",
   "id": "3fc4a5e9",
   "metadata": {},
   "source": [
    "# ENERGYSTARScore"
   ]
  },
  {
   "cell_type": "raw",
   "id": "ddbd226d",
   "metadata": {},
   "source": [
    "Reintegration of the ENERGYSTARScore variable for a refit of the model for CO2 emissions.\n",
    "I keep only the rows without zero value."
   ]
  },
  {
   "cell_type": "code",
   "execution_count": 98,
   "id": "05f4c47a",
   "metadata": {},
   "outputs": [
    {
     "name": "stdout",
     "output_type": "stream",
     "text": [
      "X_train_perm: (1258, 18)\n"
     ]
    }
   ],
   "source": [
    "X_train_perm = X_train.loc[:, (X_train.columns != 'SiteEnergyUse(kBtu)')]\n",
    "print('X_train_perm: ' + str(X_train_perm.shape))"
   ]
  },
  {
   "cell_type": "code",
   "execution_count": 99,
   "id": "af143e57",
   "metadata": {},
   "outputs": [
    {
     "name": "stdout",
     "output_type": "stream",
     "text": [
      "X_train_perm: (797, 18)\n"
     ]
    }
   ],
   "source": [
    "X_train_perm = X_train_perm[X_train_perm['ENERGYSTARScore'].notna()]\n",
    "print('X_train_perm: ' + str(X_train_perm.shape))"
   ]
  },
  {
   "cell_type": "code",
   "execution_count": 100,
   "id": "ed4ab908",
   "metadata": {},
   "outputs": [
    {
     "name": "stdout",
     "output_type": "stream",
     "text": [
      "y_train_perm: (797,)\n"
     ]
    }
   ],
   "source": [
    "y_train_perm = X_train_perm['TotalGHGEmissions']\n",
    "print('y_train_perm: ' + str(y_train_perm.shape))"
   ]
  },
  {
   "cell_type": "code",
   "execution_count": 101,
   "id": "323b8483",
   "metadata": {},
   "outputs": [
    {
     "name": "stdout",
     "output_type": "stream",
     "text": [
      "X_train_perm: (797, 17)\n"
     ]
    }
   ],
   "source": [
    "X_train_perm = X_train_perm.drop('TotalGHGEmissions', axis=1)\n",
    "print('X_train_perm: ' + str(X_train_perm.shape))"
   ]
  },
  {
   "cell_type": "code",
   "execution_count": 103,
   "id": "9be454a3",
   "metadata": {},
   "outputs": [],
   "source": [
    "def permutation(model, X, y):\n",
    "    r = permutation_importance(model, X, y, n_repeats=100, random_state=0)\n",
    "\n",
    "    conso_permutation = {'column': [], 'value': []}\n",
    "\n",
    "    for i in r.importances_mean.argsort()[::-1]:\n",
    "        conso_permutation['column'].append(X_train_perm.columns[i])\n",
    "        conso_permutation['value'].append(r.importances_mean[i])\n",
    "        if X_train_perm.columns[i] == 'ENERGYSTARScore':\n",
    "            print(X_train_perm.columns[i] + ' %.3f' % (r.importances_mean[i]))\n",
    "\n",
    "    df_conso_permutation = pd.DataFrame.from_dict(conso_permutation)\n",
    "    df_conso_permutation.sort_values(by=['value'])\n",
    "\n",
    "    x = df_conso_permutation['column']\n",
    "    energy = df_conso_permutation['value']\n",
    "\n",
    "    x_pos = [i for i, _ in enumerate(x)]\n",
    "\n",
    "    plt.bar(x_pos, energy, color='steelblue')\n",
    "    plt.xlabel(\"Features\")\n",
    "    plt.ylabel(\"Score\")\n",
    "    plt.title(\"Permutation score by feature\")\n",
    "\n",
    "    plt.xticks(x_pos, x, rotation=90)\n",
    "\n",
    "    plt.show()"
   ]
  },
  {
   "cell_type": "code",
   "execution_count": 104,
   "id": "c5722dce",
   "metadata": {},
   "outputs": [
    {
     "name": "stdout",
     "output_type": "stream",
     "text": [
      "Fitting 5 folds for each of 450 candidates, totalling 2250 fits\n"
     ]
    }
   ],
   "source": [
    "fit = standards_pipe_co2.fit(X_train_perm, y_train_perm)"
   ]
  },
  {
   "cell_type": "code",
   "execution_count": 105,
   "id": "e76cc813",
   "metadata": {
    "scrolled": false
   },
   "outputs": [
    {
     "name": "stdout",
     "output_type": "stream",
     "text": [
      "ENERGYSTARScore 0.032\n"
     ]
    },
    {
     "data": {
      "image/png": "[encoded data removed]",
      "text/plain": [
       "<Figure size 432x288 with 1 Axes>"
      ]
     },
     "metadata": {
      "needs_background": "light"
     },
     "output_type": "display_data"
    }
   ],
   "source": [
    "permutation(standards_pipe_co2, X_train_perm, y_train_perm)"
   ]
  },
  {
   "cell_type": "markdown",
   "id": "afb9140a",
   "metadata": {},
   "source": [
    "# Cache management"
   ]
  },
  {
   "cell_type": "code",
   "execution_count": 107,
   "id": "78810ff3",
   "metadata": {
    "scrolled": true
   },
   "outputs": [],
   "source": [
    "# Delete files / folders created for cache\n",
    "rmtree(location)"
   ]
  },
  {
   "cell_type": "code",
   "execution_count": null,
   "id": "5d61e748",
   "metadata": {},
   "outputs": [],
   "source": []
  }
 ],
 "metadata": {
  "kernelspec": {
   "display_name": "Python 3 (ipykernel)",
   "language": "python",
   "name": "python3"
  },
  "language_info": {
   "codemirror_mode": {
    "name": "ipython",
    "version": 3
   },
   "file_extension": ".py",
   "mimetype": "text/x-python",
   "name": "python",
   "nbconvert_exporter": "python",
   "pygments_lexer": "ipython3",
   "version": "3.9.7"
  },
  "toc": {
   "base_numbering": 1,
   "nav_menu": {},
   "number_sections": true,
   "sideBar": true,
   "skip_h1_title": false,
   "title_cell": "Table of Contents",
   "title_sidebar": "Contents",
   "toc_cell": false,
   "toc_position": {
    "height": "calc(100% - 180px)",
    "left": "10px",
    "top": "150px",
    "width": "236.5px"
   },
   "toc_section_display": true,
   "toc_window_display": true
  }
 },
 "nbformat": 4,
 "nbformat_minor": 5
}
